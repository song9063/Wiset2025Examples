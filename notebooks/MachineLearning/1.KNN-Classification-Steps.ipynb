{
 "cells": [
  {
   "cell_type": "code",
   "execution_count": 4,
   "id": "8ffc2995-d2b9-48ad-a4f0-33bf64f3026c",
   "metadata": {},
   "outputs": [],
   "source": [
    "import numpy as np"
   ]
  },
  {
   "cell_type": "code",
   "execution_count": 6,
   "id": "852c1936-5fd7-44fa-bc04-69a54b93fc62",
   "metadata": {},
   "outputs": [],
   "source": [
    "def euclidean_distance(x1, x2):\n",
    "    return np.sqrt(np.sum( (x1-x2)**2 ))"
   ]
  },
  {
   "cell_type": "code",
   "execution_count": 8,
   "id": "29e2dcee-6dbe-4c57-a49b-8e83b2bf1446",
   "metadata": {},
   "outputs": [],
   "source": [
    "# 데이터 준비\n",
    "from sklearn import datasets\n",
    "from sklearn.model_selection import train_test_split\n",
    "import matplotlib.pyplot as plt\n",
    "from matplotlib.colors import ListedColormap\n",
    "cmap = ListedColormap(['#FF0000', '#00FF00', '#0000FF'])"
   ]
  },
  {
   "cell_type": "code",
   "execution_count": 10,
   "id": "330a54cc-127e-4997-8fd1-e4411ad2aeb6",
   "metadata": {},
   "outputs": [],
   "source": [
    "iris = datasets.load_iris()\n",
    "X, y = iris.data, iris.target"
   ]
  },
  {
   "cell_type": "code",
   "execution_count": 28,
   "id": "bdab2257-8ea7-478e-950a-3ada805f2d2d",
   "metadata": {},
   "outputs": [
    {
     "data": {
      "text/plain": [
       "dict_keys(['data', 'target', 'frame', 'target_names', 'DESCR', 'feature_names', 'filename', 'data_module'])"
      ]
     },
     "execution_count": 28,
     "metadata": {},
     "output_type": "execute_result"
    }
   ],
   "source": [
    "# 데이터셋 구조 확인해보기\n",
    "iris.keys()"
   ]
  },
  {
   "cell_type": "code",
   "execution_count": 32,
   "id": "714f53cb-c2e1-44b5-8d0d-a3673fb83ba1",
   "metadata": {},
   "outputs": [
    {
     "data": {
      "text/plain": [
       "array(['setosa', 'versicolor', 'virginica'], dtype='<U10')"
      ]
     },
     "execution_count": 32,
     "metadata": {},
     "output_type": "execute_result"
    }
   ],
   "source": [
    "# Label 확인해보기\n",
    "iris.target_names"
   ]
  },
  {
   "cell_type": "code",
   "execution_count": 26,
   "id": "0c90890b-def4-43b1-a59d-36a7e790d0a5",
   "metadata": {},
   "outputs": [
    {
     "name": "stdout",
     "output_type": "stream",
     "text": [
      "['sepal length (cm)', 'sepal width (cm)', 'petal length (cm)', 'petal width (cm)']\n"
     ]
    }
   ],
   "source": [
    "# 어떤 특성들이 있는지 확인해보기\n",
    "print(iris.feature_names)"
   ]
  },
  {
   "cell_type": "code",
   "execution_count": 16,
   "id": "31bfdd2b-6e34-45f2-95d9-4c8b6dfac157",
   "metadata": {},
   "outputs": [
    {
     "data": {
      "image/png": "[encoded data removed]",
      "text/plain": [
       "<Figure size 640x480 with 1 Axes>"
      ]
     },
     "metadata": {},
     "output_type": "display_data"
    }
   ],
   "source": [
    "# Petal Length, Width로 Scatter 찍어보기\n",
    "plt.scatter(\n",
    "    X[:,2], X[:,3],\n",
    "    c=y,\n",
    "    cmap=cmap,\n",
    "    s=20\n",
    ")\n",
    "plt.show()"
   ]
  },
  {
   "cell_type": "code",
   "execution_count": 18,
   "id": "4e63d5ee-7755-49e7-b757-10a61ba75a36",
   "metadata": {},
   "outputs": [],
   "source": [
    "# Train set, Test set 나누기\n",
    "X_train, X_test, y_train, y_test = train_test_split(\n",
    "    X, y,\n",
    "    test_size=0.2,\n",
    "    random_state=1234\n",
    ")"
   ]
  },
  {
   "cell_type": "code",
   "execution_count": 24,
   "id": "ac80d29d-aff4-4d0c-970a-a4b98fe28689",
   "metadata": {},
   "outputs": [
    {
     "data": {
      "text/plain": [
       "array([6.1, 3. , 4.6, 1.4])"
      ]
     },
     "execution_count": 24,
     "metadata": {},
     "output_type": "execute_result"
    }
   ],
   "source": [
    "# 테스트셋 데이터 1개로 Distance 구해보기\n",
    "x = X_test[0]\n",
    "x"
   ]
  },
  {
   "cell_type": "code",
   "execution_count": 36,
   "id": "e45217d2-0cf7-4480-a777-83e0f8ec991b",
   "metadata": {},
   "outputs": [
    {
     "data": {
      "text/plain": [
       "[1.9748417658131496,\n",
       " 0.5000000000000003,\n",
       " 3.6823905279043934,\n",
       " 0.5830951894845302,\n",
       " 0.7810249675906661,\n",
       " 3.252691193458118,\n",
       " 3.818376618407356,\n",
       " 3.2403703492039293,\n",
       " 4.124318125460256,\n",
       " 1.884144368141677,\n",
       " 3.5972211497209896,\n",
       " 0.8185352771872448,\n",
       " 3.6496575181789312,\n",
       " 1.3076696830622023,\n",
       " 1.8357559750685826,\n",
       " 3.5707142142714243,\n",
       " 1.174734012447073,\n",
       " 1.2369316876852987,\n",
       " 2.37065391822594,\n",
       " 1.5394804318340654,\n",
       " 3.622154055254966,\n",
       " 0.9380831519646865,\n",
       " 2.596150997149434,\n",
       " 0.34641016151377546,\n",
       " 1.9104973174542794,\n",
       " 1.1269427669584642,\n",
       " 0.5196152422706631,\n",
       " 0.8660254037844396,\n",
       " 0.5196152422706631,\n",
       " 3.563705936241092,\n",
       " 3.494281041931229,\n",
       " 2.056696380120314,\n",
       " 0.9643650760992954,\n",
       " 0.9000000000000002,\n",
       " 3.478505426185217,\n",
       " 3.671511950137164,\n",
       " 3.59583091927304,\n",
       " 0.8366600265340758,\n",
       " 1.0816653826391964,\n",
       " 1.0770329614269007,\n",
       " 1.6941074346097422,\n",
       " 0.4690415759823425,\n",
       " 3.640054944640259,\n",
       " 0.9591663046625443,\n",
       " 3.4684290392049246,\n",
       " 2.7349588662354694,\n",
       " 3.5679125549822546,\n",
       " 0.19999999999999973,\n",
       " 0.714142842854285,\n",
       " 3.2726136343907135,\n",
       " 0.7681145747868606,\n",
       " 3.524202037341219,\n",
       " 1.272792206135786,\n",
       " 1.3304134695650074,\n",
       " 0.45825756949558416,\n",
       " 0.4690415759823428,\n",
       " 3.228002478313794,\n",
       " 3.602776706930364,\n",
       " 0.6708203932499368,\n",
       " 0.6244997998398397,\n",
       " 0.7745966692414828,\n",
       " 3.151190251317746,\n",
       " 0.6244997998398405,\n",
       " 1.4966629547095769,\n",
       " 0.529150262212918,\n",
       " 0.4242640687119287,\n",
       " 0.6244997998398403,\n",
       " 3.8923000912057124,\n",
       " 3.6318039594669753,\n",
       " 3.624913792078371,\n",
       " 0.7141428428542843,\n",
       " 0.9899494936611661,\n",
       " 3.355592347112503,\n",
       " 0.824621125123532,\n",
       " 0.5999999999999993,\n",
       " 1.0344080432788607,\n",
       " 0.824621125123532,\n",
       " 0.5830951894845293,\n",
       " 4.14487635521254,\n",
       " 0.7615773105863909,\n",
       " 0.9055385138137416,\n",
       " 3.5566838487557475,\n",
       " 3.475629439396553,\n",
       " 1.3341664064126344,\n",
       " 1.3379088160259647,\n",
       " 1.8920887928424497,\n",
       " 0.6403124237432846,\n",
       " 0.8602325267042631,\n",
       " 3.7536648758246915,\n",
       " 1.2999999999999996,\n",
       " 2.121320343559643,\n",
       " 1.19582607431014,\n",
       " 1.640121946685673,\n",
       " 0.6403124237432851,\n",
       " 3.6905284174491864,\n",
       " 3.5298725189445577,\n",
       " 3.7854986461495397,\n",
       " 3.6482872693909396,\n",
       " 1.4832396974191326,\n",
       " 0.5385164807134502,\n",
       " 1.272792206135786,\n",
       " 3.535533905932737,\n",
       " 3.7054014627297804,\n",
       " 0.7549834435270752,\n",
       " 0.9273618495495708,\n",
       " 0.5000000000000006,\n",
       " 1.2041594578792292,\n",
       " 1.039230484541326,\n",
       " 1.3379088160259656,\n",
       " 1.643167672515499,\n",
       " 2.9698484809835004,\n",
       " 3.3719430600174727,\n",
       " 1.4662878298615187,\n",
       " 3.484250278036869,\n",
       " 3.210918871600464,\n",
       " 1.7406895185529216,\n",
       " 1.0630145812734655,\n",
       " 1.1045361017187258,\n",
       " 3.9012818406262313,\n",
       " 3.737646318206151]"
      ]
     },
     "execution_count": 36,
     "metadata": {},
     "output_type": "execute_result"
    }
   ],
   "source": [
    "distances = [euclidean_distance(x, x_train) for x_train in X_train]\n",
    "distances"
   ]
  },
  {
   "cell_type": "code",
   "execution_count": 58,
   "id": "5f2e8ceb-645d-4e4a-97e2-33eef4ce9e6b",
   "metadata": {},
   "outputs": [
    {
     "data": {
      "text/plain": [
       "array([ 47,  23,  65,  54,  41,  55,   1, 105,  28,  26,  64,  99,  77,\n",
       "         3,  74,  59,  66,  62,  86,  93,  58,  70,  48, 103,  79,  50,\n",
       "        60,   4,  11,  76,  73,  37,  87,  27,  33,  80, 104,  21,  43,\n",
       "        32,  71,  75, 107, 116,  39,  38, 117,  25,  16,  91, 106,  17,\n",
       "        52, 100,  89,  13,  53,  83,  84, 108, 112,  98,  63,  19,  92,\n",
       "       109,  40, 115,  14,   9,  85,  24,   0,  31,  90,  18,  22,  45,\n",
       "       110,  61, 114,  56,   7,   5,  49,  72, 111,  44,  82,  34, 113,\n",
       "        30,  51,  95, 101,  81,  29,  46,  15,  36,  10,  57,  20,  69,\n",
       "        68,  42,  97,  12,  35,   2,  94, 102, 119,  88,  96,   6,  67,\n",
       "       118,   8,  78])"
      ]
     },
     "execution_count": 58,
     "metadata": {},
     "output_type": "execute_result"
    }
   ],
   "source": [
    "# 계산된 거리값을 오름차순으로 정렬한 배열인덱스 가져오기\n",
    "indicies = np.argsort(distances)\n",
    "indicies"
   ]
  },
  {
   "cell_type": "code",
   "execution_count": 60,
   "id": "11ec01f3-5cfb-406e-991d-c176ce6cac3a",
   "metadata": {},
   "outputs": [
    {
     "data": {
      "text/plain": [
       "array([47, 23, 65, 54, 41])"
      ]
     },
     "execution_count": 60,
     "metadata": {},
     "output_type": "execute_result"
    }
   ],
   "source": [
    "# 정렬된 인덱스에서 첫 k개만 남기기\n",
    "K = 5\n",
    "indicies = indicies[:K]\n",
    "indicies"
   ]
  },
  {
   "cell_type": "code",
   "execution_count": 62,
   "id": "ec9c605e-66bf-4ee7-9e99-053ee9ecc056",
   "metadata": {},
   "outputs": [
    {
     "data": {
      "text/plain": [
       "[1, 1, 1, 2, 1]"
      ]
     },
     "execution_count": 62,
     "metadata": {},
     "output_type": "execute_result"
    }
   ],
   "source": [
    "labels = [y_train[i] for i in indicies]\n",
    "labels"
   ]
  },
  {
   "cell_type": "code",
   "execution_count": 64,
   "id": "1049696f-bbf0-4c20-a4bf-f02d96ff60af",
   "metadata": {},
   "outputs": [
    {
     "name": "stdout",
     "output_type": "stream",
     "text": [
      "1\n"
     ]
    }
   ],
   "source": [
    "# 0번째 테스트값의 Label 확인해보기\n",
    "print(y_test[0])"
   ]
  },
  {
   "cell_type": "code",
   "execution_count": 70,
   "id": "db0df36a-3f4d-436b-a38a-cfb0b2595984",
   "metadata": {},
   "outputs": [
    {
     "name": "stdout",
     "output_type": "stream",
     "text": [
      "['versicolor' 'versicolor' 'versicolor' 'virginica' 'versicolor']\n"
     ]
    }
   ],
   "source": [
    "# 가까운 K개의 포인트들의 이름 확인해보기\n",
    "print(iris.target_names[labels])"
   ]
  },
  {
   "cell_type": "code",
   "execution_count": 78,
   "id": "c0e62256-022e-4b12-bc5e-b1ecb9c9400f",
   "metadata": {},
   "outputs": [
    {
     "data": {
      "text/plain": [
       "Counter({1: 4, 2: 1})"
      ]
     },
     "execution_count": 78,
     "metadata": {},
     "output_type": "execute_result"
    }
   ],
   "source": [
    "# 가까운 이웃들 분류별로 카운트해보기\n",
    "from collections import Counter\n",
    "counts = Counter(labels)\n",
    "counts"
   ]
  },
  {
   "cell_type": "code",
   "execution_count": 81,
   "id": "29fd234d-9114-4c50-9f90-3ca099a1671a",
   "metadata": {},
   "outputs": [
    {
     "data": {
      "text/plain": [
       "[(1, 4), (2, 1)]"
      ]
     },
     "execution_count": 81,
     "metadata": {},
     "output_type": "execute_result"
    }
   ],
   "source": [
    "# 카운트 결과에서 데이터가 많은 순으로 정렬된 배열 가져오기\n",
    "sorted_count = counts.most_common()\n",
    "sorted_count"
   ]
  },
  {
   "cell_type": "code",
   "execution_count": 83,
   "id": "a010002c-d54c-4dba-86eb-b33248db520a",
   "metadata": {},
   "outputs": [
    {
     "name": "stdout",
     "output_type": "stream",
     "text": [
      "1\n",
      "versicolor\n"
     ]
    }
   ],
   "source": [
    "# sorted_count에서 첫번째 항목이 예측값\n",
    "# [(1, 4), (2, 1)] -> (1,4) 1은 예측값, 4는 1이 나온 횟수\n",
    "predicted_label = sorted_count[0][0]\n",
    "print(predicted_label)\n",
    "print(iris.target_names[predicted_label])"
   ]
  },
  {
   "cell_type": "code",
   "execution_count": 85,
   "id": "d5215ab1-d480-4a48-8e6d-52163c1ab392",
   "metadata": {},
   "outputs": [],
   "source": [
    "# 이제 테스트데이터 전체를 사용하여 예측을 해보자\n",
    "# 1개 데이터에 대해 예측값을 가져오는 함수 만들기\n",
    "def predict(x):\n",
    "    distances = [euclidean_distance(x, x_train) for x_train in X_train]\n",
    "\n",
    "    # 거리값들을 오름차순으로 정렬한 인덱스 가져오기\n",
    "    indicies = np.argsort(distances)\n",
    "\n",
    "    # 가장 가까운 K개만 남기기\n",
    "    indicies = indicies[:K]\n",
    "\n",
    "    # 훈련세트의 Labels에서 가장 가까운것들만 가져오기\n",
    "    labels = [y_train[i] for i in indicies]\n",
    "\n",
    "    # labels 카운트해보기\n",
    "    counts = Counter(labels)\n",
    "\n",
    "    # 카운트 정렬해서 첫번째 항목의 y값만 꺼내오기\n",
    "    # 정렬전 counts: Counter({1: 4, 2: 1})\n",
    "    # most_common() 함수로 정렬한 결과: [(1, 4), (2, 1)]\n",
    "    # predicted_label = 1\n",
    "    predicted_label = counts.most_common()[0][0] \n",
    "    return predicted_label"
   ]
  },
  {
   "cell_type": "code",
   "execution_count": 87,
   "id": "f236ea6d-24ec-42cc-a477-8e364b1f274c",
   "metadata": {},
   "outputs": [
    {
     "data": {
      "text/plain": [
       "[1,\n",
       " 2,\n",
       " 2,\n",
       " 0,\n",
       " 1,\n",
       " 0,\n",
       " 0,\n",
       " 0,\n",
       " 1,\n",
       " 2,\n",
       " 1,\n",
       " 0,\n",
       " 2,\n",
       " 1,\n",
       " 0,\n",
       " 1,\n",
       " 2,\n",
       " 0,\n",
       " 2,\n",
       " 1,\n",
       " 1,\n",
       " 1,\n",
       " 1,\n",
       " 1,\n",
       " 2,\n",
       " 0,\n",
       " 2,\n",
       " 1,\n",
       " 2,\n",
       " 0]"
      ]
     },
     "execution_count": 87,
     "metadata": {},
     "output_type": "execute_result"
    }
   ],
   "source": [
    "# 테스트 셋 전체 값의 예측값 가져오기\n",
    "predicts = [predict(x) for x in X_test]\n",
    "predicts"
   ]
  },
  {
   "cell_type": "code",
   "execution_count": 89,
   "id": "60145e54-4804-4f95-b3ba-ddd89044b840",
   "metadata": {},
   "outputs": [
    {
     "data": {
      "text/plain": [
       "array([ True, False,  True,  True,  True,  True,  True,  True,  True,\n",
       "        True,  True,  True,  True,  True,  True,  True,  True,  True,\n",
       "        True,  True,  True,  True,  True,  True,  True,  True,  True,\n",
       "        True,  True,  True])"
      ]
     },
     "execution_count": 89,
     "metadata": {},
     "output_type": "execute_result"
    }
   ],
   "source": [
    "# 테스트셋의 y값과 예측결과 비교해보기\n",
    "ret = y_test == predicts\n",
    "ret"
   ]
  },
  {
   "cell_type": "code",
   "execution_count": 91,
   "id": "1107921f-fb93-48e7-bbfe-37768d6f46ae",
   "metadata": {},
   "outputs": [
    {
     "name": "stdout",
     "output_type": "stream",
     "text": [
      "0.9666666666666667\n"
     ]
    }
   ],
   "source": [
    "# 예측 정확도 계산해보기\n",
    "score = np.sum(predicts == y_test) / len(y_test)\n",
    "print(score)"
   ]
  },
  {
   "cell_type": "code",
   "execution_count": null,
   "id": "4bd2fb99-d11c-4bd7-bb13-665a007f051c",
   "metadata": {},
   "outputs": [],
   "source": []
  }
 ],
 "metadata": {
  "kernelspec": {
   "display_name": "Python [conda env:base] *",
   "language": "python",
   "name": "conda-base-py"
  },
  "language_info": {
   "codemirror_mode": {
    "name": "ipython",
    "version": 3
   },
   "file_extension": ".py",
   "mimetype": "text/x-python",
   "name": "python",
   "nbconvert_exporter": "python",
   "pygments_lexer": "ipython3",
   "version": "3.12.7"
  }
 },
 "nbformat": 4,
 "nbformat_minor": 5
}
