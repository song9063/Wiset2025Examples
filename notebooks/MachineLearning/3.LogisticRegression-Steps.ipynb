{
 "cells": [
  {
   "cell_type": "code",
   "execution_count": 2,
   "id": "3bbbfce7-ae73-4a2c-ad80-25be0edad95f",
   "metadata": {},
   "outputs": [],
   "source": [
    "import numpy as np\n",
    "from sklearn.model_selection import train_test_split\n",
    "from sklearn import datasets\n",
    "import matplotlib.pyplot as plt"
   ]
  },
  {
   "cell_type": "code",
   "execution_count": 4,
   "id": "39535427-03d5-4e42-9665-c220f1be791f",
   "metadata": {},
   "outputs": [],
   "source": [
    "def sigmoid(x):\n",
    "    return 1 / (1 + np.exp(-x))"
   ]
  },
  {
   "cell_type": "code",
   "execution_count": 6,
   "id": "bcb11a9c-2f0a-4878-9eaf-786212f17e0a",
   "metadata": {},
   "outputs": [
    {
     "name": "stdout",
     "output_type": "stream",
     "text": [
      "['mean radius' 'mean texture' 'mean perimeter' 'mean area'\n",
      " 'mean smoothness' 'mean compactness' 'mean concavity'\n",
      " 'mean concave points' 'mean symmetry' 'mean fractal dimension'\n",
      " 'radius error' 'texture error' 'perimeter error' 'area error'\n",
      " 'smoothness error' 'compactness error' 'concavity error'\n",
      " 'concave points error' 'symmetry error' 'fractal dimension error'\n",
      " 'worst radius' 'worst texture' 'worst perimeter' 'worst area'\n",
      " 'worst smoothness' 'worst compactness' 'worst concavity'\n",
      " 'worst concave points' 'worst symmetry' 'worst fractal dimension'] ['malignant' 'benign']\n"
     ]
    }
   ],
   "source": [
    "# 유방암 데이터셋\n",
    "bc = datasets.load_breast_cancer()\n",
    "print(bc.feature_names, bc.target_names)"
   ]
  },
  {
   "cell_type": "code",
   "execution_count": 8,
   "id": "62cf4b00-1657-4aa9-a339-ff6485ad6632",
   "metadata": {},
   "outputs": [
    {
     "data": {
      "text/plain": [
       "(569, 30)"
      ]
     },
     "execution_count": 8,
     "metadata": {},
     "output_type": "execute_result"
    }
   ],
   "source": [
    "bc.data.shape"
   ]
  },
  {
   "cell_type": "code",
   "execution_count": 10,
   "id": "762fb590-cc6b-4e8d-b4f2-a09dc7ab598e",
   "metadata": {},
   "outputs": [],
   "source": [
    "X = bc.data\n",
    "y = bc.target"
   ]
  },
  {
   "cell_type": "code",
   "execution_count": 12,
   "id": "f912b9de-cafc-4496-9b4d-f99ecc4b0742",
   "metadata": {},
   "outputs": [
    {
     "name": "stdout",
     "output_type": "stream",
     "text": [
      "[1.799e+01 1.038e+01 1.228e+02 1.001e+03 1.184e-01 2.776e-01 3.001e-01\n",
      " 1.471e-01 2.419e-01 7.871e-02 1.095e+00 9.053e-01 8.589e+00 1.534e+02\n",
      " 6.399e-03 4.904e-02 5.373e-02 1.587e-02 3.003e-02 6.193e-03 2.538e+01\n",
      " 1.733e+01 1.846e+02 2.019e+03 1.622e-01 6.656e-01 7.119e-01 2.654e-01\n",
      " 4.601e-01 1.189e-01]\n"
     ]
    }
   ],
   "source": [
    "print(X[0])"
   ]
  },
  {
   "cell_type": "code",
   "execution_count": 16,
   "id": "c9f812b2-d1f4-47e2-ba12-172a08e8ec01",
   "metadata": {},
   "outputs": [
    {
     "name": "stdout",
     "output_type": "stream",
     "text": [
      "(455, 30) (114, 30)\n"
     ]
    }
   ],
   "source": [
    "X_train, X_test, y_train, y_test = train_test_split(X, y, test_size=0.2, random_state=1234)\n",
    "print(X_train.shape, X_test.shape)"
   ]
  },
  {
   "cell_type": "code",
   "execution_count": 18,
   "id": "61c2cba5-5d71-4d26-8d51-4adf73898384",
   "metadata": {},
   "outputs": [],
   "source": [
    "# Logistic Regression 코드 작성하기"
   ]
  },
  {
   "cell_type": "code",
   "execution_count": 20,
   "id": "5bca13ae-55d3-45a0-a56c-e2e3802b96e2",
   "metadata": {},
   "outputs": [],
   "source": [
    "LEARN_RATE = 0.001\n",
    "ITERS = 1000\n",
    "weights = None\n",
    "bias = None"
   ]
  },
  {
   "cell_type": "code",
   "execution_count": 28,
   "id": "feb512a0-6866-4ee7-b641-b4854e310edf",
   "metadata": {},
   "outputs": [],
   "source": [
    "def fit(X, y):\n",
    "    global weights, bias\n",
    "\n",
    "    n_samples, n_features = X.shape\n",
    "    weights = np.zeros(n_features)\n",
    "    bias = 0\n",
    "\n",
    "    for _ in range(ITERS):\n",
    "        linear_preds = np.dot(X, weights) + bias\n",
    "        preds = sigmoid(linear_preds)\n",
    "\n",
    "        # 기울기 계산\n",
    "        dw = (1/n_samples) * np.dot(X.T, (preds - y))\n",
    "        db = (1/n_samples) * np.sum(preds - y)\n",
    "\n",
    "        # 파라메터 업데이트\n",
    "        weights = weights - LEARN_RATE * dw\n",
    "        bias = bias - LEARN_RATE * db"
   ]
  },
  {
   "cell_type": "code",
   "execution_count": 36,
   "id": "f85ffee3-6770-4fc5-8087-108a94a56e72",
   "metadata": {},
   "outputs": [],
   "source": [
    "def predict(X):\n",
    "    linear_preds = np.dot(X, weights) + bias\n",
    "    preds = sigmoid(linear_preds)\n",
    "\n",
    "    # sigmoid 값이 0.5보다 작거나 같으면 0, 크면 1(bc.target_names)\n",
    "    return [0 if y <= 0.5 else 1 for y in preds]"
   ]
  },
  {
   "cell_type": "code",
   "execution_count": 32,
   "id": "0c729d2f-97d6-4dff-912c-b06fd4f1b7fc",
   "metadata": {},
   "outputs": [
    {
     "name": "stdout",
     "output_type": "stream",
     "text": [
      "[ 3.06909268e-01  4.14765151e-01  1.77510681e+00  6.58262153e-01\n",
      "  2.74112755e-03 -1.55357787e-03 -5.84246709e-03 -2.42240194e-03\n",
      "  5.35867238e-03  2.20699909e-03  1.37980639e-03  2.87248488e-02\n",
      " -1.14703044e-02 -8.02924633e-01  1.34867009e-04 -4.71755317e-04\n",
      " -7.48941788e-04 -1.02884775e-04  5.32250879e-04  1.53952549e-05\n",
      "  3.25179283e-01  5.25937846e-01  1.78128362e+00 -1.00735265e+00\n",
      "  3.37130828e-03 -6.58398912e-03 -1.24085568e-02 -2.85541121e-03\n",
      "  7.51708524e-03  1.91377502e-03] 0.04003320537786994\n"
     ]
    },
    {
     "name": "stderr",
     "output_type": "stream",
     "text": [
      "/var/folders/87/7h3dqcbd73d6hpm7k_6yn7z80000gp/T/ipykernel_53810/1253679003.py:2: RuntimeWarning: overflow encountered in exp\n",
      "  return 1 / (1 + np.exp(-x))\n"
     ]
    }
   ],
   "source": [
    "fit(X_train, y_train)\n",
    "print(weights, bias)"
   ]
  },
  {
   "cell_type": "code",
   "execution_count": 38,
   "id": "34e9c21f-0a5c-4463-952e-7ae0e819fb7d",
   "metadata": {},
   "outputs": [
    {
     "name": "stdout",
     "output_type": "stream",
     "text": [
      "[1, 1, 1, 1, 1, 1, 0, 1, 0, 0, 0, 0, 1, 0, 1, 0, 1, 1, 1, 0, 1, 0, 0, 0, 0, 0, 0, 1, 1, 1, 1, 1, 0, 1, 1, 1, 1, 0, 0, 1, 0, 1, 0, 0, 1, 1, 1, 0, 0, 0, 1, 1, 1, 0, 0, 1, 1, 1, 1, 0, 1, 1, 1, 1, 1, 0, 0, 1, 1, 0, 1, 0, 1, 1, 0, 1, 1, 0, 1, 0, 1, 1, 0, 1, 0, 0, 0, 0, 0, 1, 1, 0, 1, 0, 0, 1, 1, 1, 1, 1, 0, 0, 1, 1, 0, 1, 1, 0, 0, 1, 0, 0, 0, 0]\n"
     ]
    },
    {
     "name": "stderr",
     "output_type": "stream",
     "text": [
      "/var/folders/87/7h3dqcbd73d6hpm7k_6yn7z80000gp/T/ipykernel_53810/1253679003.py:2: RuntimeWarning: overflow encountered in exp\n",
      "  return 1 / (1 + np.exp(-x))\n"
     ]
    }
   ],
   "source": [
    "preds = predict(X_test)\n",
    "print(preds)"
   ]
  },
  {
   "cell_type": "code",
   "execution_count": 40,
   "id": "fb0fe879-eb39-4370-b3db-1decca980815",
   "metadata": {},
   "outputs": [
    {
     "name": "stdout",
     "output_type": "stream",
     "text": [
      "[array([ True,  True,  True,  True,  True,  True,  True,  True,  True,\n",
      "        True,  True, False,  True, False,  True,  True,  True,  True,\n",
      "        True,  True,  True,  True,  True,  True,  True, False,  True,\n",
      "        True,  True,  True,  True,  True,  True,  True,  True,  True,\n",
      "        True,  True,  True,  True,  True,  True,  True, False,  True,\n",
      "        True,  True,  True,  True, False,  True,  True,  True,  True,\n",
      "        True,  True,  True,  True,  True,  True,  True,  True,  True,\n",
      "        True,  True,  True,  True,  True,  True,  True,  True,  True,\n",
      "        True, False, False,  True,  True,  True,  True,  True,  True,\n",
      "        True, False, False,  True,  True,  True,  True, False, False,\n",
      "        True,  True,  True,  True,  True,  True,  True,  True,  True,\n",
      "        True,  True,  True,  True,  True,  True,  True,  True,  True,\n",
      "        True,  True,  True, False,  True,  True])]\n"
     ]
    }
   ],
   "source": [
    "print([preds == y_test])"
   ]
  },
  {
   "cell_type": "code",
   "execution_count": 42,
   "id": "e1276791-36b5-4584-b0eb-040b7232fc44",
   "metadata": {},
   "outputs": [
    {
     "data": {
      "text/plain": [
       "0.8947368421052632"
      ]
     },
     "execution_count": 42,
     "metadata": {},
     "output_type": "execute_result"
    }
   ],
   "source": [
    "score = np.sum(preds == y_test) / len(y_test)\n",
    "score"
   ]
  },
  {
   "cell_type": "code",
   "execution_count": 44,
   "id": "56df3381-185b-4bc8-9d2c-2cf30f1d9c1e",
   "metadata": {},
   "outputs": [],
   "source": [
    "# 학습률 높이고 다시 실행해보기!\n"
   ]
  },
  {
   "cell_type": "code",
   "execution_count": null,
   "id": "d4cd550d-9615-41a0-bc3f-33aee3a3acac",
   "metadata": {},
   "outputs": [],
   "source": []
  }
 ],
 "metadata": {
  "kernelspec": {
   "display_name": "Python [conda env:base] *",
   "language": "python",
   "name": "conda-base-py"
  },
  "language_info": {
   "codemirror_mode": {
    "name": "ipython",
    "version": 3
   },
   "file_extension": ".py",
   "mimetype": "text/x-python",
   "name": "python",
   "nbconvert_exporter": "python",
   "pygments_lexer": "ipython3",
   "version": "3.12.7"
  }
 },
 "nbformat": 4,
 "nbformat_minor": 5
}
