{
 "cells": [
  {
   "cell_type": "code",
   "execution_count": 51,
   "id": "67b3b2a2-db3a-423b-a23f-7ad1511eb980",
   "metadata": {},
   "outputs": [],
   "source": [
    "import numpy as np\n",
    "import pandas as pd\n",
    "\n",
    "from sklearn.datasets import load_digits\n",
    "from sklearn.model_selection import train_test_split, GridSearchCV, StratifiedKFold\n",
    "from sklearn.svm import SVC\n",
    "from sklearn.metrics import accuracy_score, classification_report"
   ]
  },
  {
   "cell_type": "code",
   "execution_count": 94,
   "id": "9a5149e4-e9b8-4ec8-9e0d-773ed4a68920",
   "metadata": {},
   "outputs": [
    {
     "name": "stdout",
     "output_type": "stream",
     "text": [
      "[[ 0.  0.  5. 13.  9.  1.  0.  0.  0.  0. 13. 15. 10. 15.  5.  0.  0.  3.\n",
      "  15.  2.  0. 11.  8.  0.  0.  4. 12.  0.  0.  8.  8.  0.  0.  5.  8.  0.\n",
      "   0.  9.  8.  0.  0.  4. 11.  0.  1. 12.  7.  0.  0.  2. 14.  5. 10. 12.\n",
      "   0.  0.  0.  0.  6. 13. 10.  0.  0.  0.]]\n",
      "[0]\n",
      "데이터 형태: (1797, 64)\n",
      "타겟 형태: (1797,)\n",
      "클래스 개수: 10\n",
      "특성 개수: 64\n",
      "16.0\n"
     ]
    }
   ],
   "source": [
    "# 데이터 불러오기\n",
    "data = load_digits()\n",
    "X, y = data.data, data.target\n",
    "print(X[:1])\n",
    "print(y[:1])\n",
    "\n",
    "print(f'데이터 형태: {X.shape}')\n",
    "print(f'타겟 형태: {y.shape}')\n",
    "print(f'클래스 개수: {np.unique(y).shape[0]}')\n",
    "print(f'특성 개수: {X.shape[1]}')"
   ]
  },
  {
   "cell_type": "code",
   "execution_count": 61,
   "id": "758d648e-801d-44b9-9071-9fdc377d49b3",
   "metadata": {},
   "outputs": [],
   "source": [
    "# 훈련,학습데이터로 분할하기\n",
    "X_train, X_test, y_train, y_test = train_test_split(X, y, \n",
    "                                                    test_size=0.3, \n",
    "                                                    random_state=1234,\n",
    "                                                    stratify=y) # 클래스 분포 비율 유지하며 나눠줌"
   ]
  },
  {
   "cell_type": "code",
   "execution_count": 65,
   "id": "8214289f-8851-4a27-8e68-8414b6e57fc6",
   "metadata": {},
   "outputs": [],
   "source": [
    "# 튜닝할 모델 준비\n",
    "# Hyperparameter는 GridSearchCV가 설정함\n",
    "svc_clf = SVC(random_state=1234)"
   ]
  },
  {
   "cell_type": "code",
   "execution_count": 69,
   "id": "f748c376-bdb6-4411-9052-1e26f5a53080",
   "metadata": {},
   "outputs": [],
   "source": [
    "# 하이퍼 파라미터 조합 준비\n",
    "# 조합1의 수: (4*1)=4\n",
    "# 조합2의 수: (4*4*1)=16\n",
    "# 파라미터 조합 수: 4+16=20\n",
    "param_grid = [\n",
    "    # 조합1\n",
    "    {\n",
    "        'C': [0.1, 1, 10, 100], # 학습률\n",
    "        'kernel': ['linear']\n",
    "    },\n",
    "\n",
    "    # 조합2\n",
    "    {\n",
    "        'C': [0.1, 1, 10, 100],\n",
    "        'gamma': [0.001, 0.01, 0.1, 1],\n",
    "        'kernel': ['rbf']\n",
    "    },\n",
    "]"
   ]
  },
  {
   "cell_type": "code",
   "execution_count": 71,
   "id": "824da330-8a7a-4fbd-8585-0e939973fc23",
   "metadata": {},
   "outputs": [],
   "source": [
    "# 교차 검증 설정(K-Fold Stratified Cross Validation)\n",
    "# StratifiedKFold는 다중 클래스 분류에서 각 폴드의 클래스 분포를 원본과 비슷하게 유지시킴\n",
    "cv = StratifiedKFold(n_splits=5,\n",
    "                     shuffle=True,\n",
    "                     random_state=1234)"
   ]
  },
  {
   "cell_type": "code",
   "execution_count": 73,
   "id": "845a0734-2594-4c0d-addd-95a795b4ccfb",
   "metadata": {},
   "outputs": [
    {
     "name": "stdout",
     "output_type": "stream",
     "text": [
      "시작!!!\n",
      "끝남!!\n"
     ]
    }
   ],
   "source": [
    "# GridSearchCV 생성하고 학습시키기\n",
    "gs = GridSearchCV(\n",
    "    estimator=svc_clf, # 예측모델\n",
    "    param_grid=param_grid, # 파라미터 조합\n",
    "    scoring='accuracy', # 성능평가 지표\n",
    "    cv=cv, # 교차검증기 설정\n",
    "    n_jobs=-1 # 컴퓨터에서 가용 가능한 모든 코어 사용\n",
    ")\n",
    "\n",
    "print('시작!!!')\n",
    "gs.fit(X_train, y_train)\n",
    "print('끝남!!')"
   ]
  },
  {
   "cell_type": "code",
   "execution_count": 75,
   "id": "18b2ecd8-9f39-4438-94e4-c25697398e19",
   "metadata": {},
   "outputs": [
    {
     "name": "stdout",
     "output_type": "stream",
     "text": [
      "{'C': 1, 'gamma': 0.001, 'kernel': 'rbf'}\n"
     ]
    }
   ],
   "source": [
    "# 최적의 파라미터 조합 확인\n",
    "print(gs.best_params_)"
   ]
  },
  {
   "cell_type": "code",
   "execution_count": 77,
   "id": "b3794c9a-80f0-47c0-9751-70fa0768973c",
   "metadata": {},
   "outputs": [
    {
     "name": "stdout",
     "output_type": "stream",
     "text": [
      "0.9864889647758174\n"
     ]
    }
   ],
   "source": [
    "# 최고점수 확인\n",
    "print(gs.best_score_)"
   ]
  },
  {
   "cell_type": "code",
   "execution_count": 81,
   "id": "fe1e9eab-eae3-4772-a1a1-f4c3ce8e47f4",
   "metadata": {},
   "outputs": [
    {
     "name": "stdout",
     "output_type": "stream",
     "text": [
      "0.9926\n",
      "              precision    recall  f1-score   support\n",
      "\n",
      "           0       1.00      1.00      1.00        54\n",
      "           1       1.00      1.00      1.00        55\n",
      "           2       1.00      0.98      0.99        53\n",
      "           3       1.00      0.98      0.99        55\n",
      "           4       1.00      0.98      0.99        54\n",
      "           5       1.00      0.98      0.99        55\n",
      "           6       1.00      1.00      1.00        54\n",
      "           7       0.96      1.00      0.98        54\n",
      "           8       0.98      1.00      0.99        52\n",
      "           9       0.98      1.00      0.99        54\n",
      "\n",
      "    accuracy                           0.99       540\n",
      "   macro avg       0.99      0.99      0.99       540\n",
      "weighted avg       0.99      0.99      0.99       540\n",
      "\n"
     ]
    }
   ],
   "source": [
    "# 여러 종류의 모델을 한번에 테스트할 수 있는데\n",
    "# 최적의 모델에 best_estimator_ 속성으로 접근할 수 있음\n",
    "best_model = gs.best_estimator_\n",
    "\n",
    "# 테스트셋 예측해보기\n",
    "y_pred = best_model.predict(X_test)\n",
    "\n",
    "# 테스트셋의 정확도\n",
    "print(f'{accuracy_score(y_test, y_pred):.4f}')\n",
    "print(classification_report(\n",
    "    y_test, y_pred,\n",
    "    target_names=[str(i) for i in range(10)])\n",
    ")"
   ]
  },
  {
   "cell_type": "code",
   "execution_count": 98,
   "id": "98886453-aa4b-4fdc-801b-2d37f943fc78",
   "metadata": {},
   "outputs": [
    {
     "data": {
      "text/plain": [
       "array([1])"
      ]
     },
     "execution_count": 98,
     "metadata": {},
     "output_type": "execute_result"
    }
   ],
   "source": [
    "X_3 = np.array([[ 0.,  0.,  0.,  0.,  0.,  0.,  0.,  0.,  0.,  0., 16., 16., 16.,\n",
    "         0.,  0.,  0.,  0.,  0.,  0.,  0., 16.,  0.,  0.,  0.,  0.,  0.,\n",
    "        16., 16., 16., 16., 16.,  0.,  0.,  0.,  0.,  0.,  0.,  0., 16.,\n",
    "         0.,  0.,  0.,  0.,  0.,  0., 16., 16.,  0.,  0.,  0., 16., 16.,\n",
    "        16., 16.,  0.,  0.,  0.,  0.,  0.,  0.,  0.,  0.,  0.,  0.]])\n",
    "y_pred_3 = best_model.predict(X_3)\n",
    "y_pred_3"
   ]
  },
  {
   "cell_type": "code",
   "execution_count": 104,
   "id": "4b7c1baf-5c74-4311-84d6-56feb2d2a866",
   "metadata": {},
   "outputs": [
    {
     "name": "stdout",
     "output_type": "stream",
     "text": [
      "(8, 8)\n"
     ]
    }
   ],
   "source": [
    "# 이미지 데이터 시각화하는 코드\n",
    "from PIL import Image\n",
    "from sklearn.preprocessing import MinMaxScaler\n",
    "y[3]\n",
    "num3 = X[3]\n",
    "\n",
    "num3 = num3.reshape((8,8))\n",
    "print(num3.shape)\n",
    "\n",
    "scaler = MinMaxScaler(feature_range=(0,255))\n",
    "scaled_num_3 = scaler.fit_transform(num3)\n",
    "\n",
    "img = Image.fromarray(scaled_num_3)\n",
    "img.show()"
   ]
  }
 ],
 "metadata": {
  "kernelspec": {
   "display_name": "Python [conda env:base] *",
   "language": "python",
   "name": "conda-base-py"
  },
  "language_info": {
   "codemirror_mode": {
    "name": "ipython",
    "version": 3
   },
   "file_extension": ".py",
   "mimetype": "text/x-python",
   "name": "python",
   "nbconvert_exporter": "python",
   "pygments_lexer": "ipython3",
   "version": "3.12.7"
  }
 },
 "nbformat": 4,
 "nbformat_minor": 5
}
