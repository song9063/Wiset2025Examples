{
 "cells": [
  {
   "cell_type": "code",
   "execution_count": 2,
   "id": "822ed1c6-fd25-461f-abb1-0364e4e215ba",
   "metadata": {},
   "outputs": [],
   "source": [
    "# 단어 빈도를 벡터화\n",
    "from sklearn.feature_extraction.text import CountVectorizer"
   ]
  },
  {
   "cell_type": "code",
   "execution_count": 50,
   "id": "46723056-e04f-427a-8625-c37f97445349",
   "metadata": {},
   "outputs": [],
   "source": [
    "data = [\n",
    "    \"I am a boy\",\n",
    "    \"I like Linux\",\n",
    "    \"The ML is so difficult to learn.\",\n",
    "    \"But it is funny.\"\n",
    "]"
   ]
  },
  {
   "cell_type": "code",
   "execution_count": 52,
   "id": "7642c002-82b0-4d19-9229-d05504fba2d9",
   "metadata": {},
   "outputs": [],
   "source": [
    "vectorizer = CountVectorizer()\n",
    "data_vectorized = vectorizer.fit_transform(data)"
   ]
  },
  {
   "cell_type": "code",
   "execution_count": 60,
   "id": "80762560-2ec6-4733-923d-5e5170fe385d",
   "metadata": {},
   "outputs": [
    {
     "name": "stdout",
     "output_type": "stream",
     "text": [
      "(4, 14)\n",
      "[[1 1 0 0 0 0 0 0 0 0 0 0 0 0]\n",
      " [0 0 0 0 0 0 0 0 1 1 0 0 0 0]\n",
      " [0 0 0 1 0 1 0 1 0 0 1 1 1 1]\n",
      " [0 0 1 0 1 1 1 0 0 0 0 0 0 0]]\n"
     ]
    }
   ],
   "source": [
    "arr = vectorizer.transform(data).toarray()\n",
    "print(arr.shape)\n",
    "print(arr)\n",
    "# 행: 문서 수\n",
    "# 열: 문서 전체의 단어 수"
   ]
  },
  {
   "cell_type": "code",
   "execution_count": 64,
   "id": "a7364765-21ca-4306-8de5-671ef2b35d5c",
   "metadata": {},
   "outputs": [
    {
     "name": "stdout",
     "output_type": "stream",
     "text": [
      "['am' 'boy' 'but' 'difficult' 'funny' 'is' 'it' 'learn' 'like' 'linux'\n",
      " 'ml' 'so' 'the' 'to']\n",
      "(14,)\n"
     ]
    }
   ],
   "source": [
    "print(vectorizer.get_feature_names_out()) # 기본 tokenizer가 2개 이상의 문자로 구성된 단어만 추출하도록 되어있음\n",
    "print(vectorizer.get_feature_names_out().shape)"
   ]
  },
  {
   "cell_type": "code",
   "execution_count": 66,
   "id": "8c9a11f8-32ee-4b0f-a288-3de638b19069",
   "metadata": {},
   "outputs": [
    {
     "data": {
      "text/plain": [
       "{'am': 0,\n",
       " 'boy': 1,\n",
       " 'like': 8,\n",
       " 'linux': 9,\n",
       " 'the': 12,\n",
       " 'ml': 10,\n",
       " 'is': 5,\n",
       " 'so': 11,\n",
       " 'difficult': 3,\n",
       " 'to': 13,\n",
       " 'learn': 7,\n",
       " 'but': 2,\n",
       " 'it': 6,\n",
       " 'funny': 4}"
      ]
     },
     "execution_count": 66,
     "metadata": {},
     "output_type": "execute_result"
    }
   ],
   "source": [
    "vectorizer.vocabulary_"
   ]
  },
  {
   "cell_type": "code",
   "execution_count": 74,
   "id": "4e3b27e0-a212-46f4-86e2-aef03cf95678",
   "metadata": {},
   "outputs": [
    {
     "name": "stdout",
     "output_type": "stream",
     "text": [
      "['a' 'am' 'boy' 'but' 'difficult' 'funny' 'i' 'is' 'it' 'learn' 'like'\n",
      " 'linux' 'ml' 'so' 'the' 'to']\n"
     ]
    }
   ],
   "source": [
    "# 1개짜리 문자도 추출하도록 설정하기\n",
    "vectorizer = CountVectorizer(token_pattern=r'(?u)\\w+')\n",
    "data_vectorized = vectorizer.fit_transform(data)\n",
    "print(vectorizer.get_feature_names_out())"
   ]
  },
  {
   "cell_type": "code",
   "execution_count": 87,
   "id": "e3527e30-16a4-4bd5-8593-c3f51cc7891d",
   "metadata": {},
   "outputs": [],
   "source": [
    "# 한글 처리\n",
    "data_ko = [\n",
    "    '안녕하세요. 저의 이름은 송준우입니다.',\n",
    "    '안녕? 내 친구의 이름은 이눅스다.',\n",
    "    '반가워 내 고양이의 이름은 포뇨다.',\n",
    "    '안녕! 내 동생은 강아지고 이름은 볼트다.'\n",
    "]"
   ]
  },
  {
   "cell_type": "code",
   "execution_count": 85,
   "id": "88ee13fb-710a-48d1-85be-b86cada4f581",
   "metadata": {},
   "outputs": [
    {
     "name": "stdout",
     "output_type": "stream",
     "text": [
      "['강아지고' '고양이의' '내' '동생은' '반가워' '볼트다' '송준우입니다' '안녕' '안녕하세요' '이눅스다' '이름은'\n",
      " '저의' '친구의' '포뇨다']\n"
     ]
    }
   ],
   "source": [
    "vectorizer = CountVectorizer(token_pattern=r'(?u)\\w+')\n",
    "data_vectorized = vectorizer.fit_transform(data_ko)\n",
    "print(vectorizer.get_feature_names_out())"
   ]
  },
  {
   "cell_type": "code",
   "execution_count": 89,
   "id": "3cf8f4dc-4330-4734-98a3-8791b8d4796a",
   "metadata": {},
   "outputs": [
    {
     "name": "stdout",
     "output_type": "stream",
     "text": [
      "{'안녕하세요': 8, '저의': 11, '이름은': 10, '송준우입니다': 6, '안녕': 7, '내': 2, '친구의': 12, '이눅스다': 9, '반가워': 4, '고양이의': 1, '포뇨다': 13, '동생은': 3, '강아지고': 0, '볼트다': 5}\n"
     ]
    }
   ],
   "source": [
    "print(vectorizer.vocabulary_)"
   ]
  },
  {
   "cell_type": "code",
   "execution_count": 95,
   "id": "35295bfe-99b1-43a6-82cf-9a2c5ae91060",
   "metadata": {},
   "outputs": [
    {
     "name": "stdout",
     "output_type": "stream",
     "text": [
      "Collecting konlpy\n",
      "  Downloading konlpy-0.6.0-py2.py3-none-any.whl.metadata (1.9 kB)\n",
      "Collecting JPype1>=0.7.0 (from konlpy)\n",
      "  Downloading jpype1-1.5.2-cp312-cp312-macosx_10_9_universal2.whl.metadata (4.9 kB)\n",
      "Requirement already satisfied: lxml>=4.1.0 in /opt/anaconda3/lib/python3.12/site-packages (from konlpy) (5.2.1)\n",
      "Requirement already satisfied: numpy>=1.6 in /opt/anaconda3/lib/python3.12/site-packages (from konlpy) (1.26.4)\n",
      "Requirement already satisfied: packaging in /opt/anaconda3/lib/python3.12/site-packages (from JPype1>=0.7.0->konlpy) (24.1)\n",
      "Downloading konlpy-0.6.0-py2.py3-none-any.whl (19.4 MB)\n",
      "\u001b[2K   \u001b[90m━━━━━━━━━━━━━━━━━━━━━━━━━━━━━━━━━━━━━━━━\u001b[0m \u001b[32m19.4/19.4 MB\u001b[0m \u001b[31m32.0 MB/s\u001b[0m eta \u001b[36m0:00:00\u001b[0m00:01\u001b[0m0:01\u001b[0m\n",
      "\u001b[?25hDownloading jpype1-1.5.2-cp312-cp312-macosx_10_9_universal2.whl (583 kB)\n",
      "\u001b[2K   \u001b[90m━━━━━━━━━━━━━━━━━━━━━━━━━━━━━━━━━━━━━━━━\u001b[0m \u001b[32m583.4/583.4 kB\u001b[0m \u001b[31m22.0 MB/s\u001b[0m eta \u001b[36m0:00:00\u001b[0m\n",
      "\u001b[?25hInstalling collected packages: JPype1, konlpy\n",
      "Successfully installed JPype1-1.5.2 konlpy-0.6.0\n"
     ]
    }
   ],
   "source": [
    "!pip install konlpy # 또는 !curl -s https://raw.githubusercontent.com/teddylee777/machine-learning/master/99-Misc/01-Colab/mecab-colab.sh | bash"
   ]
  },
  {
   "cell_type": "code",
   "execution_count": 99,
   "id": "bb995cf6-d704-4647-b197-87490edd975b",
   "metadata": {},
   "outputs": [],
   "source": [
    "# 한글 형태소 분석기\n",
    "from konlpy.tag import Komoran"
   ]
  },
  {
   "cell_type": "code",
   "execution_count": 108,
   "id": "4c91cb16-73c9-433b-83c9-e8e4570b493d",
   "metadata": {},
   "outputs": [
    {
     "name": "stdout",
     "output_type": "stream",
     "text": [
      "{'안녕하세요': 5, '이름': 7, '송': 4, '우': 6, '친구': 8, '고양이': 1, '포뇨': 9, '동생': 2, '강아지': 0, '볼트': 3}\n"
     ]
    }
   ],
   "source": [
    "komoran = Komoran()\n",
    "vectorizer_ko = CountVectorizer(tokenizer=komoran.nouns)\n",
    "vectorizer_ko.fit(data_ko)\n",
    "print(vectorizer_ko.vocabulary_)"
   ]
  },
  {
   "cell_type": "code",
   "execution_count": 112,
   "id": "9f3d0892-e662-496d-bb20-0347b49d0c50",
   "metadata": {},
   "outputs": [
    {
     "name": "stdout",
     "output_type": "stream",
     "text": [
      "{'안녕하세요': 13, '.': 1, '저': 19, '의': 15, '이름': 17, '은': 14, '송': 11, '준우': 20, '입니다': 18, '안녕': 12, '?': 2, '내': 6, '친구': 21, '이눅스': 16, '다': 7, '반가워': 9, '고양이': 5, '포뇨': 22, '!': 0, '동생': 8, '강아지': 3, '고': 4, '볼트': 10}\n"
     ]
    }
   ],
   "source": [
    "from konlpy.tag import Okt\n",
    "okt = Okt()\n",
    "vectorizer_ko = CountVectorizer(tokenizer=okt.morphs)\n",
    "vectorizer_ko.fit(data_ko)\n",
    "print(vectorizer_ko.vocabulary_)"
   ]
  },
  {
   "cell_type": "code",
   "execution_count": null,
   "id": "de4d9667-a136-41db-9d04-6d7b9684a003",
   "metadata": {},
   "outputs": [],
   "source": []
  }
 ],
 "metadata": {
  "kernelspec": {
   "display_name": "Python [conda env:base] *",
   "language": "python",
   "name": "conda-base-py"
  },
  "language_info": {
   "codemirror_mode": {
    "name": "ipython",
    "version": 3
   },
   "file_extension": ".py",
   "mimetype": "text/x-python",
   "name": "python",
   "nbconvert_exporter": "python",
   "pygments_lexer": "ipython3",
   "version": "3.12.7"
  }
 },
 "nbformat": 4,
 "nbformat_minor": 5
}
